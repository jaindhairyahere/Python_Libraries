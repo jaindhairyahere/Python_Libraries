{
 "cells": [
  {
   "cell_type": "code",
   "execution_count": 14,
   "metadata": {},
   "outputs": [],
   "source": [
    "%matplotlib notebook\n",
    "import matplotlib.pyplot as plt\n",
    "import numpy as np\n",
    "import pandas as pd\n",
    "from sklearn import preprocessing\n",
    "from sklearn.metrics import r2_score,confusion_matrix\n",
    "from sklearn.linear_model import LinearRegression,Ridge,LogisticRegression\n",
    "from sklearn.model_selection import train_test_split"
   ]
  },
  {
   "cell_type": "code",
   "execution_count": 21,
   "metadata": {},
   "outputs": [
    {
     "data": {
      "text/plain": [
       "array([[ 3. , -1.5, -1.9, -4.3],\n",
       "       [ 0. ,  4. , -0.3,  2.1],\n",
       "       [ 1. ,  3.3,  2. , -5.4]])"
      ]
     },
     "execution_count": 21,
     "metadata": {},
     "output_type": "execute_result"
    }
   ],
   "source": [
    "data = np.array([[3, -1.5,-1.9, -4.3],[0,4,-0.3, 2.1], [1,3.3,2, -5.4]])\n",
    "data"
   ]
  },
  {
   "cell_type": "code",
   "execution_count": 22,
   "metadata": {},
   "outputs": [
    {
     "name": "stdout",
     "output_type": "stream",
     "text": [
      "\n",
      "Standardized Data (found by data-data.mean/data.std)=\n",
      " [[ 1.33630621 -1.40451644 -1.14533633 -0.53423728]\n",
      " [-1.06904497  0.84543708 -0.14577008  1.40111286]\n",
      " [-0.26726124  0.55907936  1.29110641 -0.86687558]]\n",
      "Mean =  [ 5.55111512e-17 -1.11022302e-16 -1.48029737e-16 -7.40148683e-17]\n",
      "Std Deviation = [1. 1. 1. 1.]\n",
      "\n",
      "Mean is almost 0 and std is 1\n"
     ]
    }
   ],
   "source": [
    "#Mean Removal\n",
    "data_standardization = preprocessing.scale(data)\n",
    "print(\"\\nStandardized Data (found by data-data.mean/data.std)=\\n\",data_standardization)\n",
    "print(\"Mean = \",data_standardization.mean(axis=0))\n",
    "print(\"Std Deviation =\",data_standardization.std(axis=0))\n",
    "\n",
    "print(\"\\nMean is almost 0 and std is 1\")"
   ]
  },
  {
   "cell_type": "code",
   "execution_count": 23,
   "metadata": {},
   "outputs": [
    {
     "name": "stdout",
     "output_type": "stream",
     "text": [
      "\n",
      "Min-Max Scaled Data =\n",
      " [[1.         0.         0.         0.14666667]\n",
      " [0.         1.         0.41025641 1.        ]\n",
      " [0.33333333 0.87272727 1.         0.        ]]\n"
     ]
    }
   ],
   "source": [
    "#Scaling\n",
    "data_scaler = preprocessing.MinMaxScaler(feature_range=(0,1))\n",
    "data_scaled = data_scaler.fit_transform(data)\n",
    "print(\"\\nMin-Max Scaled Data =\\n\",data_scaled)"
   ]
  },
  {
   "cell_type": "code",
   "execution_count": 33,
   "metadata": {},
   "outputs": [
    {
     "name": "stdout",
     "output_type": "stream",
     "text": [
      "\n",
      "Normalized Data =\n",
      " [[ 0.28037383 -0.14018692 -0.17757009 -0.40186916]\n",
      " [ 0.          0.625      -0.046875    0.328125  ]\n",
      " [ 0.08547009  0.28205128  0.17094017 -0.46153846]]\n"
     ]
    }
   ],
   "source": [
    "#Normalization\n",
    "data_normalized = preprocessing.normalize(data,norm='l1')\n",
    "print(\"\\nNormalized Data =\\n\",data_normalized)"
   ]
  },
  {
   "cell_type": "code",
   "execution_count": 40,
   "metadata": {},
   "outputs": [
    {
     "name": "stdout",
     "output_type": "stream",
     "text": [
      "\n",
      "Binarized Data =\n",
      " [[1. 0. 0. 0.]\n",
      " [0. 1. 0. 1.]\n",
      " [0. 1. 1. 0.]]\n"
     ]
    }
   ],
   "source": [
    "#Binarization\n",
    "data_binarized = preprocessing.Binarizer(threshold=1.4).transform(data)\n",
    "print(\"\\nBinarized Data =\\n\",data_binarized)"
   ]
  },
  {
   "cell_type": "code",
   "execution_count": 55,
   "metadata": {},
   "outputs": [
    {
     "name": "stdout",
     "output_type": "stream",
     "text": [
      "Input Classes = ['porche', 'jaguar', 'bmw', 'porche']\n",
      "Encoded Labels = [3 1 0 3]\n"
     ]
    }
   ],
   "source": [
    "#Label Encoding\n",
    "car_classes = ['bmw','mercedez','porche','jaguar','rollsroyce']\n",
    "label_encoder = preprocessing.LabelEncoder()\n",
    "label_encoder.fit(car_classes)\n",
    "test_cars = ['porche','jaguar','bmw','porche']\n",
    "print(\"Input Classes =\",test_cars)\n",
    "print(\"Encoded Labels =\",label_encoder.transform(test_cars))"
   ]
  },
  {
   "cell_type": "code",
   "execution_count": 56,
   "metadata": {},
   "outputs": [],
   "source": [
    "#One Hot Encoding"
   ]
  },
  {
   "cell_type": "code",
   "execution_count": null,
   "metadata": {},
   "outputs": [],
   "source": []
  }
 ],
 "metadata": {
  "kernelspec": {
   "display_name": "Python 3",
   "language": "python",
   "name": "python3"
  },
  "language_info": {
   "codemirror_mode": {
    "name": "ipython",
    "version": 3
   },
   "file_extension": ".py",
   "mimetype": "text/x-python",
   "name": "python",
   "nbconvert_exporter": "python",
   "pygments_lexer": "ipython3",
   "version": "3.7.3"
  }
 },
 "nbformat": 4,
 "nbformat_minor": 2
}
